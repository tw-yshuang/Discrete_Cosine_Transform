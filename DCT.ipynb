{
 "cells": [
  {
   "cell_type": "markdown",
   "metadata": {},
   "source": [
    "### Contact\n",
    "  Author: Y. S. Huang, 黃渝舜 <br>\n",
    "  e-mail: tw.yshuang@gmail.com <br>\n",
    "  Github: https://github.com/tw-yshuang <br>\n",
    "\n",
    "  Thanks for L. D. Yuan, 袁倫大(m11007s03@gapps.ntust.edu.tw) providing the Original DCT & IDCT algorithm idea."
   ]
  },
  {
   "cell_type": "code",
   "execution_count": 1,
   "metadata": {},
   "outputs": [],
   "source": [
    "import time, math\n",
    "from PIL import Image\n",
    "import numpy as np\n",
    "from numba import jit"
   ]
  },
  {
   "cell_type": "markdown",
   "metadata": {},
   "source": [
    "### Original 2D DCT & IDCT algorithm <br>\n",
    "Requires (W * H) multiplications and (W * H) additions <br>\n",
    "(O) = (W * H)^2\n"
   ]
  },
  {
   "cell_type": "code",
   "execution_count": 2,
   "metadata": {},
   "outputs": [],
   "source": [
    "# the DCT function\n",
    "@jit(nopython=True)\n",
    "def dct_2d(img: np.ndarray, dct_img: np.ndarray):\n",
    "    # use four loops to calculate the compressed image's pixel values\n",
    "    # i and j can be seen as the location of the compressed image\n",
    "    # k and l can be seen as the calculation of every pixel from the original image\n",
    "\n",
    "    for i in range(img.shape[0]):\n",
    "        for j in range(img.shape[1]):\n",
    "            for k in range(img.shape[0]):\n",
    "                for l in range(img.shape[1]):\n",
    "                    if i == 0 and j == 0:\n",
    "                        # print('here:(0, 0)')\n",
    "                        dct_img[i][j] += 1 / ((img.shape[0] + img.shape[1]) / 2) * img[k][l]\n",
    "                    else:\n",
    "                        dct_img[i][j] += (\n",
    "                            ((1 / img.shape[0]) + (1 / img.shape[1]))\n",
    "                            * img[k][l]\n",
    "                            * ((1 / math.sqrt(2)) if i == 0 else (math.cos((2 * k + 1) * i * math.pi / (2 * img.shape[0]))))\n",
    "                            * ((1 / math.sqrt(2)) if j == 0 else (math.cos((2 * l + 1) * j * math.pi / (2 * img.shape[1]))))\n",
    "                        )\n",
    "\n",
    "    return dct_img"
   ]
  },
  {
   "cell_type": "code",
   "execution_count": 3,
   "metadata": {},
   "outputs": [],
   "source": [
    "# the inverse of DCT function\n",
    "@jit(nopython=True)\n",
    "def idct_2d(dct_img, idct_img):\n",
    "    # use four loops to restore the pixel values from the compressed image\n",
    "    # i and j can be seen as the location of the restored image\n",
    "    # k and l can be seen as the calculation of every pixel from the compressed image\n",
    "\n",
    "    for i in range(dct_img.shape[0]):\n",
    "        for j in range(dct_img.shape[1]):\n",
    "            for k in range(dct_img.shape[0]):\n",
    "                for l in range(dct_img.shape[1]):\n",
    "                    idct_img[i, j] += (\n",
    "                        (1 / dct_img.shape[0] + 1 / dct_img.shape[1])\n",
    "                        * dct_img[k][l]\n",
    "                        * ((1 / math.sqrt(2)) if i == 0 else math.cos((2 * i + 1) * k * math.pi / (2 * dct_img.shape[0])))\n",
    "                        * ((1 / math.sqrt(2)) if j == 0 else math.cos((2 * j + 1) * l * math.pi / (2 * dct_img.shape[1])))\n",
    "                    )\n",
    "\n",
    "    return idct_img"
   ]
  },
  {
   "cell_type": "markdown",
   "metadata": {},
   "source": [
    "### 1D DCT & IDCT algorithm <br>"
   ]
  },
  {
   "cell_type": "code",
   "execution_count": 4,
   "metadata": {},
   "outputs": [],
   "source": [
    "@jit(nopython=True)\n",
    "def dct_1d(seq: np.ndarray):\n",
    "    \"\"\"\n",
    "    ## 1D-DCT algorithm\n",
    "    input\n",
    "    `seq`: a 1D array content time domain values.\n",
    "\n",
    "    output\n",
    "    `dct_seq`: a 1D array content frequency domain values.\n",
    "    \"\"\"\n",
    "    dct_seq = np.zeros(seq.shape, dtype=np.float64)  # create a 1D array for saving frequency domain values\n",
    "    for u_idx in range(len(seq)):  # find index of dct_seq\n",
    "        value = 0.0\n",
    "        for m_idx, m in enumerate(seq):\n",
    "            value += m * math.cos((2 * m_idx + 1) * u_idx * math.pi / (2 * len(seq)))\n",
    "\n",
    "        dct_seq[u_idx] = value * math.sqrt(2 / len(seq)) if u_idx > 0 else value / math.sqrt(len(seq))\n",
    "    return dct_seq"
   ]
  },
  {
   "cell_type": "code",
   "execution_count": 5,
   "metadata": {},
   "outputs": [],
   "source": [
    "@jit(nopython=True)\n",
    "def idct_1d(seq: np.ndarray):\n",
    "    \"\"\"\n",
    "    ## 1D-IDCT algorithm\n",
    "    input\n",
    "    `seq`: a 1D array content frequency domain values.\n",
    "\n",
    "    output\n",
    "    `idct_seq`: a 1D array content time domain values.\n",
    "    \"\"\"\n",
    "    idct_seq = np.zeros(seq.shape, dtype=np.float64)\n",
    "    for m_idx in range(len(seq)):\n",
    "        for u_idx, u in enumerate(seq):\n",
    "            value = math.sqrt(2 / len(seq)) if u_idx > 0 else 1 / math.sqrt(len(seq))\n",
    "            value *= u * math.cos((2 * m_idx + 1) * u_idx * math.pi / (2 * len(seq)))\n",
    "\n",
    "            idct_seq[m_idx] += value\n",
    "    return idct_seq"
   ]
  },
  {
   "cell_type": "markdown",
   "metadata": {},
   "source": [
    "### Fast 2D DCT & IDCT algorithm <br>\n",
    "Use 2 times 1D DCT & IDCT algorithm to build it. <br>\n",
    "> image -> 1D DCT from 1 side -> 1D DCT from 1 another side => Fast 2D DCT <br>\n",
    "> dct_image -> 1D IDCT from 1 side -> 1D IDCT from 1 another side => Fast 2D IDCT\n",
    "\n",
    "Requires W * (W * H) multiplications from W side, H * (W * H) multiplications from H side <br>\n",
    "(O) = (W + H) * (W * H)\n"
   ]
  },
  {
   "cell_type": "code",
   "execution_count": 8,
   "metadata": {},
   "outputs": [],
   "source": [
    "def dct_fast_2d(img: np.ndarray):\n",
    "    \"\"\"\n",
    "    ## Fast 2D-DCT algorithm\n",
    "    input\n",
    "    `img`: a 2D array content time domain values, usually is an image.\n",
    "\n",
    "    output\n",
    "    `dct_img`: a 2D array content frequency domain values.\n",
    "    \"\"\"\n",
    "    dct_img = img.astype(np.float64, copy=False)\n",
    "    dims = 1 if len(img.shape) == 2 else img.shape[2]  # find the dims of image\n",
    "\n",
    "    for dim in range(dims):\n",
    "        dct_dim = dct_img if dims == 1 else dct_img[:, :, dim]  # iterate by dim's sequnce\n",
    "        for w in range(img.shape[0]):  # do 1D-DCT form row side first\n",
    "            dct_dim[w, :] = dct_1d(dct_dim[w, :])\n",
    "        for h in range(img.shape[1]):  # do 1D-DCT form column side\n",
    "            dct_dim[:, h] = dct_1d(dct_dim[:, h])\n",
    "\n",
    "    return dct_img\n"
   ]
  },
  {
   "cell_type": "code",
   "execution_count": 10,
   "metadata": {},
   "outputs": [],
   "source": [
    "def idct_fast_2d(dct_img: np.ndarray):\n",
    "    \"\"\"\n",
    "    ## Fast 2D-IDCT algorithm\n",
    "    input\n",
    "    `dct_img`: a 2D array content frequency domain values.\n",
    "\n",
    "    output\n",
    "    `idct_img`: a 2D array content time domain values.\n",
    "    \"\"\"\n",
    "    idct_img = dct_img.astype(np.float64, copy=False)\n",
    "    dims = 1 if len(dct_img.shape) == 2 else dct_img.shape[2]  # find the dims of image\n",
    "\n",
    "    for dim in range(dims):\n",
    "        idct_dim = idct_img if dims == 1 else idct_img[:, :, dim]  # iterate by dim's sequnce\n",
    "        for w in range(dct_img.shape[0]):  # do 1D-IDCT form row side first\n",
    "            idct_dim[w, :] = idct_1d(idct_dim[w, :])\n",
    "        for h in range(dct_img.shape[1]):  # do 1D-IDCT form column side\n",
    "            idct_dim[:, h] = idct_1d(idct_dim[:, h])\n",
    "\n",
    "    return idct_img"
   ]
  },
  {
   "cell_type": "markdown",
   "metadata": {},
   "source": [
    "### Block 2D DCT & IDCT algorithm <br>\n",
    "For compression use."
   ]
  },
  {
   "cell_type": "code",
   "execution_count": 11,
   "metadata": {},
   "outputs": [],
   "source": [
    "def dct_block(img: np.ndarray, block: tuple = (8, 8)):\n",
    "    \"\"\"\n",
    "    ## Fast 2D-DCT by block\n",
    "    input\n",
    "    `img`: a 2D array content time domain values, usually is an image.\n",
    "    `block`: (row, col)\n",
    "\n",
    "    output\n",
    "    `dct_img`: a 2D array content frequency domain values.\n",
    "    \"\"\"\n",
    "    w_stripe = block[0]  # the stripe of row side\n",
    "    h_stripe = block[1]  # the stripe of column side\n",
    "\n",
    "    num_w = img.shape[0] // w_stripe  # number of block in row side\n",
    "    num_h = img.shape[1] // w_stripe  # number of block in column side\n",
    "\n",
    "    dct_img = img.astype(np.float64, copy=False)\n",
    "    dims = 1 if len(img.shape) == 2 else img.shape[2]  # find the dims of image\n",
    "    for dim in range(dims):\n",
    "        dct_dim = dct_img if dims == 1 else dct_img[:, :, dim]  # iterate by dim's sequnce\n",
    "        for w in range(num_w):\n",
    "            for h in range(num_h):\n",
    "                # process Fast 2D-DCT algorithm by block, form left to right, top to bottom.\n",
    "                dct_dim[w * w_stripe : (w + 1) * w_stripe, h * h_stripe : (h + 1) * h_stripe] = dct_fast_2d(\n",
    "                    dct_dim[w * w_stripe : (w + 1) * w_stripe, h * h_stripe : (h + 1) * h_stripe]\n",
    "                )\n",
    "\n",
    "    return dct_img"
   ]
  },
  {
   "cell_type": "code",
   "execution_count": 12,
   "metadata": {},
   "outputs": [],
   "source": [
    "def idct_block(dct_img: np.ndarray, block: tuple = (8, 8)):\n",
    "    \"\"\"\n",
    "    ## Fast 2D-IDCT by block\n",
    "    input\n",
    "    `dct_img`: a 2D array content frequency domain values\n",
    "    `block`: (row, col)\n",
    "\n",
    "    output\n",
    "    `idct_img`: a 2D array content time domain values\n",
    "    \"\"\"\n",
    "    w_stripe = block[0]  # the stripe of row side\n",
    "    h_stripe = block[1]  # the stripe of column side\n",
    "\n",
    "    num_w = dct_img.shape[0] // w_stripe  # number of block in row side\n",
    "    num_h = dct_img.shape[1] // w_stripe  # number of block in column side\n",
    "\n",
    "    idct_img = dct_img.astype(np.float64, copy=False)\n",
    "    dims = 1 if len(dct_img.shape) == 2 else dct_img.shape[2]  # find the dims of image\n",
    "    for dim in range(dims):\n",
    "        idct_dim = idct_img if dims == 1 else idct_img[:, :, dim]  # iterate by dim's sequnce\n",
    "        for w in range(num_w):\n",
    "            for h in range(num_h):\n",
    "                # process Fast 2D-IDCT algorithm by block, form left to right, top to bottom.\n",
    "                idct_dim[w * w_stripe : (w + 1) * w_stripe, h * h_stripe : (h + 1) * h_stripe] = idct_fast_2d(\n",
    "                    idct_dim[w * w_stripe : (w + 1) * w_stripe, h * h_stripe : (h + 1) * h_stripe]\n",
    "                )\n",
    "\n",
    "    return idct_img"
   ]
  },
  {
   "cell_type": "markdown",
   "metadata": {},
   "source": [
    "### Main"
   ]
  },
  {
   "cell_type": "markdown",
   "metadata": {},
   "source": [
    "Images path"
   ]
  },
  {
   "cell_type": "code",
   "execution_count": 13,
   "metadata": {},
   "outputs": [],
   "source": [
    "paths = [\n",
    "    './images/lena.tif',\n",
    "    # './images/lena_std.tif',\n",
    "]"
   ]
  },
  {
   "cell_type": "markdown",
   "metadata": {},
   "source": [
    "Original 2D DCT & IDCT algorithm"
   ]
  },
  {
   "cell_type": "code",
   "execution_count": 16,
   "metadata": {},
   "outputs": [
    {
     "name": "stdout",
     "output_type": "stream",
     "text": [
      "Original 2D DCT & IDCT Total Spend Time:\n",
      "    lena: 137.00418758392334 sec\n"
     ]
    }
   ],
   "source": [
    "print(\"Original 2D DCT & IDCT Total Spend Time:\")\n",
    "for i, path in enumerate(paths):\n",
    "    start_time = time.time()\n",
    "    \n",
    "    filename = path.split('/')[2].split('.')[0]  # find the filename, e.g. lena, child, etc.\n",
    "    transformed_img = np.array(Image.open(path))\n",
    "    # =====================================================#\n",
    "    # process by basic DCT_2D full image\n",
    "    dct_img = np.array(transformed_img, dtype=np.float64)\n",
    "    dims = 1 if len(dct_img.shape) == 2 else dct_img.shape[2]\n",
    "    for dim in range(dims):\n",
    "        dct_dim = dct_img if dims == 1 else dct_img[:, :, dim]  # iterate by dim's sequnce\n",
    "        dct_dim[:, :] = dct_2d(dct_dim, np.zeros_like(dct_dim))\n",
    "\n",
    "    # print(dct_img)\n",
    "    Image.fromarray(dct_img.copy().astype(np.uint8)).save(f'./out/basic_dct_{filename}.png')\n",
    "\n",
    "    idct_img = dct_img.copy()\n",
    "    for dim in range(dims):\n",
    "        idct_dim = idct_img if dims == 1 else idct_img[:, :, dim]  # iterate by dim's sequnce\n",
    "        idct_dim[:, :] = idct_2d(idct_dim, np.zeros_like(idct_dim))\n",
    "\n",
    "    # print(idct_img)\n",
    "    Image.fromarray(idct_img.astype(np.uint8)).save(f'./out/basic_idct_{filename}.png')\n",
    "    \n",
    "    print(f\"    {filename}: {time.time()-start_time} sec\")"
   ]
  },
  {
   "cell_type": "markdown",
   "metadata": {},
   "source": [
    "Fast 2D DCT & IDCT algorithm"
   ]
  },
  {
   "cell_type": "code",
   "execution_count": 14,
   "metadata": {},
   "outputs": [
    {
     "name": "stdout",
     "output_type": "stream",
     "text": [
      "Fast 2D DCT & IDCT Total Spend Time:\n",
      "    lena: 1.5662834644317627 sec\n"
     ]
    }
   ],
   "source": [
    "print(\"Fast 2D DCT & IDCT Total Spend Time:\")\n",
    "for i, path in enumerate(paths):\n",
    "    start_time = time.time()\n",
    "    filename = path.split('/')[2].split('.')[0]  # find the filename, e.g. lena, child, etc.\n",
    "    transformed_img = np.array(Image.open(path))\n",
    "    \n",
    "    dct_img = dct_fast_2d(transformed_img)\n",
    "    # print(dct_img)\n",
    "    Image.fromarray(dct_img.copy().astype(np.uint8)).save(f'./out/dct_{filename}.png')\n",
    "\n",
    "    idct_img = idct_fast_2d(dct_img)\n",
    "    # print(idct_img)\n",
    "    Image.fromarray(idct_img.astype(np.uint8)).save(f'./out/idct_{filename}.png')\n",
    "    \n",
    "    print(f\"    {filename}: {time.time()-start_time} sec\")"
   ]
  },
  {
   "cell_type": "markdown",
   "metadata": {},
   "source": [
    "The Fast DCT & IDCT algorithm are fast than Original DCT & IDCT algorithm `(W * H) / (W + H)` operation time!!"
   ]
  },
  {
   "cell_type": "markdown",
   "metadata": {},
   "source": [
    "Fast 2D DCT & IDCT algorithm by Block"
   ]
  },
  {
   "cell_type": "code",
   "execution_count": 15,
   "metadata": {},
   "outputs": [
    {
     "name": "stdout",
     "output_type": "stream",
     "text": [
      "Fast 2D DCT & IDCT by Block Total Spend Time:\n",
      "    lena: 0.0842890739440918 sec\n"
     ]
    }
   ],
   "source": [
    "print(\"Fast 2D DCT & IDCT by Block Total Spend Time:\")\n",
    "for i, path in enumerate(paths):\n",
    "    start_time = time.time()\n",
    "    filename = path.split('/')[2].split('.')[0]  # find the filename, e.g. lena, child, etc.\n",
    "    transformed_img = np.array(Image.open(path))\n",
    "    \n",
    "    block = (8, 8)\n",
    "    dct_img = dct_block(transformed_img, block=block)\n",
    "    # print(dct_img)\n",
    "\n",
    "    Image.fromarray(dct_img.copy().astype(np.uint8)).save(f'./out/dct-{block[0]}x{block[1]}_{filename}.png')\n",
    "\n",
    "    idct_img = idct_block(dct_img, block=block)\n",
    "    # print(idct_img)\n",
    "    Image.fromarray(idct_img.copy().astype(np.uint8)).save(f'./out/idct-{block[0]}x{block[1]}_{filename}.png')\n",
    "    \n",
    "    print(f\"    {filename}: {time.time()-start_time} sec\")"
   ]
  }
 ],
 "metadata": {
  "interpreter": {
   "hash": "22977c60e41a135a968d9053da393103022b1b9a7ba5b387c6641d1beac05daa"
  },
  "kernelspec": {
   "display_name": "Python 3.8.12 64-bit ('Discrete_Cosine_Transform-v6gifmhn': pipenv)",
   "language": "python",
   "name": "python3"
  },
  "language_info": {
   "codemirror_mode": {
    "name": "ipython",
    "version": 3
   },
   "file_extension": ".py",
   "mimetype": "text/x-python",
   "name": "python",
   "nbconvert_exporter": "python",
   "pygments_lexer": "ipython3",
   "version": "3.8.12"
  },
  "orig_nbformat": 4
 },
 "nbformat": 4,
 "nbformat_minor": 2
}
